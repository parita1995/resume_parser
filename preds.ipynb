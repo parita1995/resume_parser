{
 "cells": [
  {
   "cell_type": "code",
   "execution_count": 11,
   "id": "ce8d2d52-ea50-4003-8755-eecb66dcb1c2",
   "metadata": {},
   "outputs": [
    {
     "name": "stdout",
     "output_type": "stream",
     "text": [
      "Samples: C:\\Users\\parri\\OneDrive\\Documents\\Parita\\projects\\resume_parser\\samples\n",
      "Will write: C:\\Users\\parri\\OneDrive\\Documents\\Parita\\projects\\resume_parser\\pred\\preds.jsonl\n"
     ]
    }
   ],
   "source": [
    "from pathlib import Path\n",
    "import importlib, resume_parser as rp\n",
    "importlib.reload(rp)\n",
    "import time\n",
    "\n",
    "PRED_PATH = Path.cwd() / \"preds.jsonl\"        # e.g., .../notebooks/preds.jsonl\n",
    "PRED_PATH.parent.mkdir(parents=True, exist_ok=True)\n",
    "\n",
    "# where your sample resumes live\n",
    "SAMPLES = Path(\"./samples\")   # or Path.cwd() / \"samples\"\n",
    "assert SAMPLES.exists(), f\"Missing folder: {SAMPLES}\"\n",
    "assert any(p.suffix.lower() in {\".pdf\",\".docx\"} for p in SAMPLES.iterdir()), \"No PDF/DOCX in samples\"\n",
    "\n",
    "MODEL = \"llama3.1:8b\" \n",
    "# where to save predictions\n",
    "PRED_PATH = (Path.cwd() / \"pred /preds.jsonl\").resolve()\n",
    "PRED_PATH.parent.mkdir(parents=True, exist_ok=True)\n",
    "print(\"Samples:\", SAMPLES.resolve())\n",
    "print(\"Will write:\", PRED_PATH)\n"
   ]
  },
  {
   "cell_type": "code",
   "execution_count": 3,
   "id": "9bb4f96a-bab4-452a-8dfc-3e93824885c1",
   "metadata": {},
   "outputs": [],
   "source": [
    "with open(PRED_PATH, \"w\", encoding=\"utf-8\") as f:\n",
    "    for p in sorted(SAMPLES.iterdir()):\n",
    "        if p.suffix.lower() not in {\".pdf\", \".docx\"}:\n",
    "            continue\n",
    "        t0 = time.time()\n",
    "        out = rp.parse_resume_llm(p, model=MODEL)  # llama3.1:8b only\n",
    "        rec = out.model_dump()\n",
    "        rec[\"file\"] = p.name\n",
    "        rec[\"latency_s\"] = round(time.time() - t0, 2)\n",
    "        f.write(json.dumps(rec, ensure_ascii=False) + \"\\n\")"
   ]
  },
  {
   "cell_type": "code",
   "execution_count": null,
   "id": "43de8f2c-8bda-4448-ac06-feee288a71ec",
   "metadata": {},
   "outputs": [],
   "source": []
  }
 ],
 "metadata": {
  "kernelspec": {
   "display_name": "Python (llm-env)",
   "language": "python",
   "name": "llm-env"
  },
  "language_info": {
   "codemirror_mode": {
    "name": "ipython",
    "version": 3
   },
   "file_extension": ".py",
   "mimetype": "text/x-python",
   "name": "python",
   "nbconvert_exporter": "python",
   "pygments_lexer": "ipython3",
   "version": "3.10.18"
  }
 },
 "nbformat": 4,
 "nbformat_minor": 5
}
