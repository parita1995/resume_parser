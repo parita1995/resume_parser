{
 "cells": [
  {
   "cell_type": "code",
   "execution_count": 2,
   "id": "1839ecae-d5c8-4c61-98da-98aca38a72a0",
   "metadata": {},
   "outputs": [],
   "source": [
    "import json, difflib, pandas as pd"
   ]
  },
  {
   "cell_type": "code",
   "execution_count": 4,
   "id": "07fbd926-e5ac-40fd-8cbe-822bd52ec685",
   "metadata": {},
   "outputs": [],
   "source": [
    "def f1(pred, gt):\n",
    "    p, g = set(map(str.lower, pred)), set(map(str.lower, gt))\n",
    "    tp=len(p&g); fp=len(p-g); fn=len(g-p)\n",
    "    prec=tp/(tp+fp) if tp+fp else 0.0\n",
    "    rec =tp/(tp+fn) if tp+fn else 0.0\n",
    "    f1 =2*prec*rec/(prec+rec) if prec+rec else 0.0\n",
    "    return prec, rec, f1\n",
    "\n"
   ]
  },
  {
   "cell_type": "code",
   "execution_count": 6,
   "id": "c7a7ece7-85b7-4d3b-8db7-7662162e5bd5",
   "metadata": {},
   "outputs": [
    {
     "data": {
      "text/html": [
       "<div>\n",
       "<style scoped>\n",
       "    .dataframe tbody tr th:only-of-type {\n",
       "        vertical-align: middle;\n",
       "    }\n",
       "\n",
       "    .dataframe tbody tr th {\n",
       "        vertical-align: top;\n",
       "    }\n",
       "\n",
       "    .dataframe thead th {\n",
       "        text-align: right;\n",
       "    }\n",
       "</style>\n",
       "<table border=\"1\" class=\"dataframe\">\n",
       "  <thead>\n",
       "    <tr style=\"text-align: right;\">\n",
       "      <th></th>\n",
       "      <th>file</th>\n",
       "      <th>name_sim</th>\n",
       "      <th>email_ok</th>\n",
       "      <th>skills_p</th>\n",
       "      <th>skills_r</th>\n",
       "      <th>skills_f1</th>\n",
       "    </tr>\n",
       "  </thead>\n",
       "  <tbody>\n",
       "    <tr>\n",
       "      <th>0</th>\n",
       "      <td>10005171.pdf</td>\n",
       "      <td>0.0</td>\n",
       "      <td>True</td>\n",
       "      <td>1.0</td>\n",
       "      <td>0.857143</td>\n",
       "      <td>0.923077</td>\n",
       "    </tr>\n",
       "  </tbody>\n",
       "</table>\n",
       "</div>"
      ],
      "text/plain": [
       "           file  name_sim  email_ok  skills_p  skills_r  skills_f1\n",
       "0  10005171.pdf       0.0      True       1.0  0.857143   0.923077"
      ]
     },
     "execution_count": 6,
     "metadata": {},
     "output_type": "execute_result"
    }
   ],
   "source": [
    "preds=[json.loads(l) for l in open(\"./pred/preds.jsonl\",encoding=\"utf-8\")]\n",
    "gts  =[json.loads(l) for l in open(\"samples_gt.jsonl\",encoding=\"utf-8\")]\n",
    "P={r[\"file\"]:r for r in preds}; G={r[\"file\"]:r for r in gts}\n",
    "rows=[]\n",
    "for f, gt in G.items():\n",
    "    pr=P.get(f, {\"name\":\"\",\"email\":\"\",\"skills\":[]})\n",
    "    name_sim=difflib.SequenceMatcher(None, pr[\"name\"].lower(), gt[\"name\"].lower()).ratio()\n",
    "    email_ok=(pr[\"email\"].lower()==gt[\"email\"].lower())\n",
    "    prec, rec, f1s=f1(pr[\"skills\"], gt[\"skills\"])\n",
    "    rows.append({\"file\":f,\"name_sim\":name_sim,\"email_ok\":email_ok,\"skills_p\":prec,\"skills_r\":rec,\"skills_f1\":f1s})\n",
    "pd.DataFrame(rows)"
   ]
  },
  {
   "cell_type": "code",
   "execution_count": null,
   "id": "3644add2-dc9b-4da7-af67-3bf47f735f58",
   "metadata": {},
   "outputs": [],
   "source": []
  },
  {
   "cell_type": "code",
   "execution_count": null,
   "id": "0f931dd7-f2b7-484d-ac79-86316afff2b7",
   "metadata": {},
   "outputs": [],
   "source": []
  }
 ],
 "metadata": {
  "kernelspec": {
   "display_name": "Python (llm-env)",
   "language": "python",
   "name": "llm-env"
  },
  "language_info": {
   "codemirror_mode": {
    "name": "ipython",
    "version": 3
   },
   "file_extension": ".py",
   "mimetype": "text/x-python",
   "name": "python",
   "nbconvert_exporter": "python",
   "pygments_lexer": "ipython3",
   "version": "3.10.18"
  }
 },
 "nbformat": 4,
 "nbformat_minor": 5
}
